{
 "cells": [
  {
   "cell_type": "markdown",
   "metadata": {},
   "source": [
    "# Assignment 3"
   ]
  },
  {
   "cell_type": "markdown",
   "metadata": {},
   "source": [
    "In this assignment, we want to build a L-layer (input layer, L-1 hidden layers and output layer, it should be noted that in some descriptions input layer might not be counted in L) neural network for two-classification problem.\n",
    "\n",
    "For activation function in each layer (except the output layer), we use Relu. For output layer, the activation function is sigmoid.\n",
    "\n",
    "The whole model structure is INPUT->[LINEAR -> RELU] × (L-1) -> LINEAR -> SIGMOID"
   ]
  },
  {
   "cell_type": "markdown",
   "metadata": {},
   "source": [
    "**Problem 1.** Given dim of each layer (layer_dims), initialize parameters of each layer (Hint: You can try other parameter initialization methods, such as Xavier initialization,He initialization and so on)."
   ]
  },
  {
   "cell_type": "markdown",
   "metadata": {},
   "source": [
    "<img src=\"layer.JPG\" width=700, heigth=400/>"
   ]
  },
  {
   "cell_type": "code",
   "execution_count": 72,
   "metadata": {},
   "outputs": [],
   "source": [
    "import numpy as np\n",
    "def initialize_parameters(layer_dims):\n",
    "    \"\"\"\n",
    "    layer_dims--a list, record dim of each layer\n",
    "    layer_dim=[]\n",
    "    parameters--a dictionary, record the parameter of each layer\n",
    "    \"\"\"\n",
    "    L=len(layer_dims)\n",
    "    parameters={}\n",
    "    for l in range(1,L): # initialize from layer 1 to layer L\n",
    "        parameters['W'+str(l)]= np.random.randn(layer_dims[l],layer_dims[l-1])*0.1\n",
    "        parameters['b'+str(l)]= np.random.randn(layer_dims[l],1)*0.1\n",
    "\n",
    "    return parameters\n"
   ]
  },
  {
   "cell_type": "markdown",
   "metadata": {},
   "source": [
    "**Problem 2.** Implement the forward propagation of the LINEAR->ACTIVATION layer\n",
    "$$Z^{[l]}=W^{[l]}A^{[l-1]}+b^{[l]}$$\n",
    "$$A^{[l]}=activation(Z^{[l]})$$"
   ]
  },
  {
   "cell_type": "code",
   "execution_count": 64,
   "metadata": {},
   "outputs": [],
   "source": [
    "def Linear_active_forward(pre_A,W,b,activation):\n",
    "    \"\"\"\n",
    "    pre_A--output from the last layer  // 应该是previous 不是 last\n",
    "    W,b-- parameters of the current layer\n",
    "    activation--type of activation function\n",
    "    return:\n",
    "    A--output of the activation function\n",
    "    cache--record the linear_cache and activation_cache\n",
    "    \"\"\"\n",
    "    ###calculate the linear output\n",
    "    Z= W @ pre_A + b # shape(nl,1)\n",
    "    linear_cache=(pre_A,W,b)\n",
    "    ###calculate the output of activation function\n",
    "    if activation=='relu':\n",
    "        A= relu(Z)\n",
    "        activation_cache=Z\n",
    "    if activation=='sigmoid':\n",
    "        A= sigmoid(Z)\n",
    "        activation_cache=Z\n",
    "    \n",
    "    cache=(linear_cache,activation_cache)\n",
    "    \n",
    "    return A,cache \n",
    "        \n",
    "\n",
    "def relu(x):\n",
    "    return np.maximum(0, x)\n",
    "def sigmoid(x):\n",
    "    return np.exp(x) / (1 + np.exp(x))"
   ]
  },
  {
   "cell_type": "markdown",
   "metadata": {},
   "source": [
    "**Problem 3.** Implement the forward propogation of the whole model.\n"
   ]
  },
  {
   "cell_type": "code",
   "execution_count": 26,
   "metadata": {},
   "outputs": [],
   "source": [
    "def forward(X,parameters):\n",
    "    \"\"\"\n",
    "    X--data\n",
    "    parameters--parameter of each layer\n",
    "    return:\n",
    "    AL-- output of last layer(activation output)\n",
    "    caches--list, record the cache from each layer\n",
    "    \"\"\"\n",
    "    \n",
    "    caches=[]\n",
    "    A=X # A0\n",
    "    L=len(parameters)//2\n",
    "    for l in range(1, L):\n",
    "        pre_A = A\n",
    "        ### Linear->Relu forward\n",
    "        A, cache =  Linear_active_forward(pre_A,parameters['W'+str(l)],parameters['b'+str(l)],'relu')\n",
    "        caches.append(cache)\n",
    "    \n",
    "    ### Linear->Sigmoid forward\n",
    "    AL, cache =  Linear_active_forward(A,parameters['W'+str(L)],parameters['b'+str(L)],'sigmoid')\n",
    "    caches.append(cache)\n",
    "    \n",
    "    return AL,caches \n",
    "    \n",
    "    "
   ]
  },
  {
   "cell_type": "code",
   "execution_count": 27,
   "metadata": {},
   "outputs": [
    {
     "data": {
      "text/plain": [
       "'2'"
      ]
     },
     "execution_count": 27,
     "metadata": {},
     "output_type": "execute_result"
    }
   ],
   "source": [
    "a = {'a':1,'2':2}\n",
    "len(a)\n",
    "L=2\n",
    "str(L)"
   ]
  },
  {
   "cell_type": "markdown",
   "metadata": {},
   "source": [
    "**Problem 4** Compute the logistic cost\n"
   ]
  },
  {
   "cell_type": "code",
   "execution_count": 28,
   "metadata": {},
   "outputs": [],
   "source": [
    "def cost(AL,Y):\n",
    "    \"\"\"\n",
    "    AL--the predicted probability\n",
    "    Y--true lable\n",
    "    return:\n",
    "    cost--a number\n",
    "    \"\"\"\n",
    "    AL=AL.reshape(Y.shape)\n",
    "    a = Y.shape[0]\n",
    "    b = Y.shape[1]\n",
    "    if a > b:\n",
    "        m = a\n",
    "    else:\n",
    "        m = b\n",
    "    cost = (-1/m)*np.sum(Y * np.log(AL+1e-5) + (1 - Y) * (np.log(1-AL+1e-5))) # 添加正则化，防止溢出\n",
    "    return cost\n"
   ]
  },
  {
   "cell_type": "markdown",
   "metadata": {},
   "source": [
    "**Problem 5** Implement linear backward.\n",
    "<br />\n",
    "For layer $l$, the linear part is: $Z^{[l]} = W^{[l]} A^{[l-1]} + b^{[l]}$ (followed by an activation).\n",
    "<br />\n",
    "Suppose you have already calculated the derivative $dZ^{[l]} = \\frac{\\partial \\mathcal{L} }{\\partial Z^{[l]}}$. You want to get $(dW^{[l]}, db^{[l]}, dA^{[l-1]})$.\n",
    "<br />\n",
    "The three outputs $(dW^{[l]}, db^{[l]}, dA^{[l]})$ are computed using the input $dZ^{[l]}$.Here are the formulas you need:\n",
    "$$ dW^{[l]} = \\frac{\\partial \\mathcal{L} }{\\partial W^{[l]}} = \\frac{1}{m} dZ^{[l]} A^{[l-1] T} $$\n",
    "$$ db^{[l]} = \\frac{\\partial \\mathcal{L} }{\\partial b^{[l]}} = \\frac{1}{m} \\sum_{i = 1}^{m} dZ^{[l](i)}$$\n",
    "$$ dA^{[l-1]} = \\frac{\\partial \\mathcal{L} }{\\partial A^{[l-1]}} = W^{[l] T} dZ^{[l]} $$\n",
    "**use the above 3 formulations to implement linear_backward()**"
   ]
  },
  {
   "cell_type": "code",
   "execution_count": 29,
   "metadata": {},
   "outputs": [],
   "source": [
    "def linear_backward(dZ,cache):\n",
    "    \"\"\"\n",
    "    dZ -- Gradient of the cost with respect to the linear output (of current layer l)\n",
    "    cache -- tuple of values (A_prev, W, b) coming from the forward propagation in the current layer\n",
    "    \n",
    "    Returns:\n",
    "    dA_pre -- Gradient of the cost with respect to the activation (of the previous layer l-1), same shape as A_prev\n",
    "    dW -- Gradient of the cost with respect to W (current layer l),same shape as W\n",
    "    db -- Gradient of the cost with respect to b (current layer l), same shape as b\n",
    "    \"\"\"\n",
    "    pre_A, W, b = cache\n",
    " \n",
    "    m = dZ.shape[1]\n",
    "    #print(m)\n",
    "    dW = (1/m) * (dZ @ pre_A.T)\n",
    "    db = (1/m) * np.sum(dZ,axis=1,keepdims=True)\n",
    "    #dA_pre = W.T @ dZ\n",
    "    dA_pre = np.dot(W.T,dZ)\n",
    "    ###calculate dW,db,dA_pre\n",
    "\n",
    "    \n",
    "    return dA_pre,dW,db"
   ]
  },
  {
   "cell_type": "markdown",
   "metadata": {},
   "source": [
    "**Problem 6** \n",
    "1. Implements the backward propagation for Sigmoid and Relu unit.\n",
    "$$dZ^{[l]} = dA^{[l]} * g'(Z^{[l]})$$\n",
    "\n",
    "2. Implement the backpropagation for the LINEAR->ACTIVATION layer"
   ]
  },
  {
   "cell_type": "code",
   "execution_count": 30,
   "metadata": {},
   "outputs": [
    {
     "data": {
      "text/plain": [
       "0.34678217837590053"
      ]
     },
     "execution_count": 30,
     "metadata": {},
     "output_type": "execute_result"
    }
   ],
   "source": [
    "(1-sigmoid([1,2,3]))@sigmoid([1,2,3])"
   ]
  },
  {
   "cell_type": "code",
   "execution_count": 31,
   "metadata": {},
   "outputs": [],
   "source": [
    "def sigmoid_backward(dA,activation_cache):\n",
    "    '''\n",
    "    dA--Gradient of the cost with respect to the activation (of the current layer l)\n",
    "    activation_cache--linear output of the current layer l\n",
    "    return:\n",
    "    dZ--Gradient of the cost with respect to the linear output (of current layer l)\n",
    "    '''\n",
    "    ###compute gradient dZ \n",
    "    dZ = dA * (sigmoid(activation_cache)*(1-sigmoid(activation_cache)))\n",
    "    return dZ"
   ]
  },
  {
   "cell_type": "code",
   "execution_count": 32,
   "metadata": {},
   "outputs": [],
   "source": [
    "def relu_backward(dA,activation_cache):\n",
    "    '''\n",
    "    dA--Gradient of the cost with respect to the activation (of the current layer l)\n",
    "    activation_cache--linear output of the current layer l\n",
    "    return:\n",
    "    dZ--Gradient of the cost with respect to the linear output (of current layer l)\n",
    "    '''\n",
    "    ###compute gradient dZ\n",
    "    v = np.ones(activation_cache.shape)\n",
    "    v[activation_cache <= 0] = 0\n",
    "    dZ = dA * v\n",
    "    return dZ"
   ]
  },
  {
   "cell_type": "code",
   "execution_count": 33,
   "metadata": {},
   "outputs": [
    {
     "data": {
      "text/plain": [
       "array([1, 0, 3])"
      ]
     },
     "execution_count": 33,
     "metadata": {},
     "output_type": "execute_result"
    }
   ],
   "source": [
    "t = np.array([1,-2,3])\n",
    "v = t.copy()\n",
    "v[t <= 0] = 0\n",
    "v"
   ]
  },
  {
   "cell_type": "code",
   "execution_count": 34,
   "metadata": {},
   "outputs": [],
   "source": [
    "def linear_active_backward(dA,cache,activation):\n",
    "    \"\"\"\n",
    "    dA--Gradient of the cost with respect to the activation (of the current layer l)\n",
    "    cache--tuple of values (linear_cache, activation_cache)\n",
    "    Returns:\n",
    "    dA_pre -- Gradient of the cost with respect to the activation (of the previous layer l-1), same shape as A_prev\n",
    "    dW -- Gradient of the cost with respect to W (current layer l),same shape as W\n",
    "    db -- Gradient of the cost with respect to b (current layer l), same shape as b\n",
    "    \"\"\"\n",
    "    linear_cache,activation_cache=cache\n",
    "    if activation=='relu':\n",
    "        ###calculate dZ,dA_pre, dW, db\n",
    "        dA_pre,dW,db=linear_backward(relu_backward(dA,activation_cache),linear_cache)\n",
    "    if activation=='sigmoid':\n",
    "        ###calculate dZ,dA_pre, dW, db\n",
    "        dA_pre,dW,db=linear_backward(sigmoid_backward(dA,activation_cache),linear_cache)\n",
    "        \n",
    "    return dA_pre, dW, db\n",
    "        "
   ]
  },
  {
   "cell_type": "markdown",
   "metadata": {},
   "source": [
    "**Problem 7.** Implement the backward function for the whole network.\n",
    "<br />\n",
    "To backpropagate through this network, we know that the output is $A^{[L]} = Sigmoid(Z^{[L]})$. we give the code to compute  $dA^{[L]}= \\frac{\\partial \\mathcal{L}}{\\partial A^{[L]}}$"
   ]
  },
  {
   "cell_type": "code",
   "execution_count": 49,
   "metadata": {},
   "outputs": [],
   "source": [
    "def backward(AL, Y, caches):\n",
    "    \"\"\"\n",
    "    AL -- probability vector, output of the forward propagation (forward())\n",
    "    Y -- true label\n",
    "    caches -- list of caches containing: every cache of linear_activation_forward() with \"relu\" and the cache of linear_activation_forward() with \"sigmoid\"\n",
    "    Returns:\n",
    "    grads -- A dictionary with the gradients\n",
    "    grads[\"dA\" + str(l)] = ...\n",
    "    grads[\"dW\" + str(l)] = ...\n",
    "    grads[\"db\" + str(l)] = ...\n",
    "    \"\"\"\n",
    "    grads = {}\n",
    "    L = len(caches) # the number of layers\n",
    "    Y = Y.reshape(AL.shape)\n",
    "    dAL= - (np.divide(Y, AL) - np.divide(1 - Y, 1 - AL))\n",
    "    ###compute the parameter gradients of the output layer (Linear->sigmoid)\n",
    "    current_cache=caches[L-1]\n",
    "    grads[\"dA\" + str(L-1)],grads[\"dW\" + str(L)],grads[\"db\" + str(L)] = linear_active_backward(dAL,current_cache,'sigmoid')\n",
    "    grads[\"dA\" + str(L)] = dAL\n",
    "    ### calculate the parameter gradients(dA,dW,db) of the remaining layers(linear->relu)\n",
    "    for l in reversed(range(1,L)):\n",
    "        ###your code\n",
    "        current_cache=caches[l-1]\n",
    "        grads[\"dA\" + str(l-1)],grads[\"dW\" + str(l)],grads[\"db\" + str(l)] = linear_active_backward(grads[\"dA\" + str(l)],current_cache,'relu')\n",
    "    return grads"
   ]
  },
  {
   "cell_type": "code",
   "execution_count": 48,
   "metadata": {},
   "outputs": [
    {
     "name": "stdout",
     "output_type": "stream",
     "text": [
      "2\n",
      "1\n"
     ]
    },
    {
     "data": {
      "text/plain": [
       "'dW1'"
      ]
     },
     "execution_count": 48,
     "metadata": {},
     "output_type": "execute_result"
    }
   ],
   "source": [
    "t = reversed(range(1,3))\n",
    "for i in t:\n",
    "    print(i)\n",
    "\"dW\"+str(1)"
   ]
  },
  {
   "cell_type": "markdown",
   "metadata": {},
   "source": [
    "**Problem 7** Implement “update_parameters()” to update all parameters using gradient descent."
   ]
  },
  {
   "cell_type": "code",
   "execution_count": 37,
   "metadata": {},
   "outputs": [],
   "source": [
    "def update_parameters(parameters,grads,learning_rate):\n",
    "    L = len(parameters)//2\n",
    "    for i in range(1,L+1):\n",
    "        parameters['W'+str(i)] = parameters['W'+str(i)] - grads['dW'+str(i)]*learning_rate\n",
    "        parameters['b'+str(i)] = parameters['b'+str(i)] - grads['db'+str(i)]*learning_rate\n",
    "    return parameters\n",
    "    "
   ]
  },
  {
   "cell_type": "markdown",
   "metadata": {},
   "source": [
    "**Problem 8** Implement the predict() function."
   ]
  },
  {
   "cell_type": "code",
   "execution_count": 38,
   "metadata": {},
   "outputs": [],
   "source": [
    "def predict(X,parameters):\n",
    "    \"\"\"\n",
    "    X--data\n",
    "    parameters: updated parameters\n",
    "    return:\n",
    "    pred: a binary vector [1,X.shape[1]]\n",
    "    \"\"\"\n",
    "    AL,caches=forward(X,parameters)\n",
    "    pred = np.zeros(AL.shape)\n",
    "    pred[AL>=0.5] = 1\n",
    "    return pred\n"
   ]
  },
  {
   "cell_type": "markdown",
   "metadata": {},
   "source": [
    "**Problem 9** merge above functions into one, implement model() function."
   ]
  },
  {
   "cell_type": "code",
   "execution_count": 59,
   "metadata": {},
   "outputs": [],
   "source": [
    "def model(X,Y,layer_dims,learning_rate,num_iterations):\n",
    "    np.random.seed(1)\n",
    "    costs = [] \n",
    "    ### Parameters initialization.\n",
    "    ###your code\n",
    "    parameters=initialize_parameters(layer_dims)\n",
    "    # Loop (gradient descent)\n",
    "    for i in range(0, num_iterations):\n",
    "        ### Forward propagation: INPUT->[LINEAR -> RELU]*(L-1) -> LINEAR ->SIGMOID.\n",
    "        ### your code\n",
    "        AL,caches=forward(X,parameters)\n",
    "    \n",
    "        ### Compute cost.\n",
    "        current_cost=cost(AL,Y)\n",
    "        #print(current_cost)\n",
    "        costs.append(current_cost)\n",
    "        ### Backward propagation.\n",
    "        ###your code\n",
    "        grads = backward(AL, Y, caches)\n",
    "        ### Update parameters.\n",
    "        ### your code\n",
    "        parameters=update_parameters(parameters,grads,learning_rate)\n",
    "\n",
    "        if i % 50 == 0:\n",
    "            print (\"Cost after iteration %i: %f\" %(i, current_cost))\n",
    "        \n",
    "    return parameters,costs\n",
    "\n",
    "\n"
   ]
  },
  {
   "cell_type": "markdown",
   "metadata": {},
   "source": [
    "**Problem 10** Use a picture dataset to train the whole model. Here we give the preprocessing code."
   ]
  },
  {
   "cell_type": "code",
   "execution_count": 40,
   "metadata": {},
   "outputs": [],
   "source": [
    "def load_data():\n",
    "    \n",
    "    train_dataset = h5py.File('train_catvnoncat.h5', \"r\")\n",
    "    train_set_x_orig = np.array(train_dataset[\"train_set_x\"][:]) # your train set features\n",
    "    train_set_y_orig = np.array(train_dataset[\"train_set_y\"][:]) # your train set labels\n",
    "\n",
    "    test_dataset = h5py.File('test_catvnoncat.h5', \"r\")\n",
    "    test_set_x_orig = np.array(test_dataset[\"test_set_x\"][:]) # your test set features\n",
    "    test_set_y_orig = np.array(test_dataset[\"test_set_y\"][:]) # your test set labels\n",
    "\n",
    "    classes = np.array(test_dataset[\"list_classes\"][:]) # the list of classes\n",
    "    \n",
    "    train_set_y_orig = train_set_y_orig.reshape((1, train_set_y_orig.shape[0]))\n",
    "    test_set_y_orig = test_set_y_orig.reshape((1, test_set_y_orig.shape[0]))\n",
    "    \n",
    "    return train_set_x_orig, train_set_y_orig, test_set_x_orig, test_set_y_orig, classes"
   ]
  },
  {
   "cell_type": "code",
   "execution_count": 41,
   "metadata": {},
   "outputs": [],
   "source": [
    "##preproccessing code\n",
    "import numpy as np\n",
    "import h5py\n",
    "import matplotlib.pyplot as plt\n",
    "import scipy\n",
    "from PIL import Image\n",
    "from scipy import ndimage\n",
    "#matplotlib inline\n",
    "plt.rcParams['figure.figsize'] = (5.0, 4.0) # set default size of plots\n",
    "plt.rcParams['image.interpolation'] = 'nearest'\n",
    "plt.rcParams['image.cmap'] = 'gray'\n",
    "np.random.seed(1)\n",
    "train_x_orig, train_y, test_x_orig, test_y, classes = load_data()\n",
    "# Reshape the training and test examples\n",
    "train_x_flatten = train_x_orig.reshape(train_x_orig.shape[0], -1).T\n",
    "test_x_flatten = test_x_orig.reshape(test_x_orig.shape[0], -1).T\n",
    "# Standardize data to have feature values between 0 and 1.\n",
    "train_x = train_x_flatten/255.\n",
    "test_x = test_x_flatten/255.\n",
    "\n"
   ]
  },
  {
   "cell_type": "code",
   "execution_count": 42,
   "metadata": {},
   "outputs": [
    {
     "data": {
      "text/plain": [
       "(12288, 209)"
      ]
     },
     "execution_count": 42,
     "metadata": {},
     "output_type": "execute_result"
    }
   ],
   "source": [
    "train_x_flatten.shape"
   ]
  },
  {
   "cell_type": "code",
   "execution_count": 43,
   "metadata": {},
   "outputs": [
    {
     "data": {
      "text/plain": [
       "(1, 209)"
      ]
     },
     "execution_count": 43,
     "metadata": {},
     "output_type": "execute_result"
    }
   ],
   "source": [
    "train_y.shape"
   ]
  },
  {
   "cell_type": "code",
   "execution_count": 74,
   "metadata": {},
   "outputs": [
    {
     "name": "stdout",
     "output_type": "stream",
     "text": [
      "Cost after iteration 0: 0.683452\n",
      "Cost after iteration 50: 0.669858\n",
      "Cost after iteration 100: 0.656306\n",
      "Cost after iteration 150: 0.650846\n",
      "Cost after iteration 200: 0.648524\n",
      "Cost after iteration 250: 0.646813\n",
      "Cost after iteration 300: 0.645145\n",
      "Cost after iteration 350: 0.643477\n",
      "Cost after iteration 400: 0.641687\n",
      "Cost after iteration 450: 0.639730\n",
      "Cost after iteration 500: 0.637615\n",
      "Cost after iteration 550: 0.635257\n",
      "Cost after iteration 600: 0.632687\n",
      "Cost after iteration 650: 0.629264\n",
      "Cost after iteration 700: 0.625064\n",
      "Cost after iteration 750: 0.619920\n",
      "Cost after iteration 800: 0.613311\n",
      "Cost after iteration 850: 0.604560\n",
      "Cost after iteration 900: 0.594599\n",
      "Cost after iteration 950: 0.582802\n",
      "0.6555023923444976\n",
      "0.34\n"
     ]
    },
    {
     "data": {
      "image/png": "[encoded data removed]",
      "text/plain": [
       "<Figure size 360x288 with 1 Axes>"
      ]
     },
     "metadata": {
      "needs_background": "light"
     },
     "output_type": "display_data"
    }
   ],
   "source": [
    "layer_dims = [12288, 20, 7, 5, 1]####you can change the dim of hidden layer, or the number of hidden layers\n",
    "learning_rate=0.01\n",
    "num_iterations=1000\n",
    "parameters,costs=model(train_x,train_y,layer_dims,learning_rate,num_iterations)\n",
    "pred_y = predict(train_x,parameters)\n",
    "pred=predict(test_x,parameters)\n",
    "###calculate accuracy\n",
    "accuracy_tr=np.mean(pred_y==train_y)\n",
    "accuracy_te=np.mean(pred==test_y)\n",
    "print(accuracy_tr)\n",
    "print(accuracy_te)\n",
    "###plot the cost\n",
    "###your code\n",
    "plt.plot(costs)\n",
    "plt.show()"
   ]
  },
  {
   "cell_type": "code",
   "execution_count": null,
   "metadata": {},
   "outputs": [],
   "source": []
  }
 ],
 "metadata": {
  "kernelspec": {
   "display_name": "Python 3",
   "language": "python",
   "name": "python3"
  },
  "language_info": {
   "codemirror_mode": {
    "name": "ipython",
    "version": 3
   },
   "file_extension": ".py",
   "mimetype": "text/x-python",
   "name": "python",
   "nbconvert_exporter": "python",
   "pygments_lexer": "ipython3",
   "version": "3.8.3"
  }
 },
 "nbformat": 4,
 "nbformat_minor": 2
}
